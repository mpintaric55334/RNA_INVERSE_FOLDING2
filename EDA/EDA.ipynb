{
 "cells": [
  {
   "cell_type": "code",
   "execution_count": 21,
   "id": "a4d82560-a7b5-4b9f-898b-562130a7189c",
   "metadata": {},
   "outputs": [],
   "source": [
    "import numpy as np\n",
    "import pandas as pd\n",
    "import matplotlib.pyplot as plt\n",
    "import matplotlib\n",
    "from Bio import SeqIO\n",
    "import os"
   ]
  },
  {
   "cell_type": "code",
   "execution_count": 22,
   "id": "812b8186-e68d-49a4-8f6b-39f27760f272",
   "metadata": {},
   "outputs": [],
   "source": [
    "def parse_bpseq_file(file_path,all_pairs):\n",
    "    with open(file_path, 'r') as file:\n",
    "        seq = ''\n",
    "        pairs = {} \n",
    "        pairing_distances = np.array([])\n",
    "        for line in file:\n",
    "            if \"#\" in line:\n",
    "                continue\n",
    "            parts = line.strip().split()\n",
    "            if len(parts) == 3:\n",
    "                pos, nucleotide, pair_pos = parts\n",
    "                pos,pair_pos = int(pos), int(pair_pos)\n",
    "                smaller_pos = np.min([pos,pair_pos])\n",
    "                larger_pos = np.max([pos,pair_pos])\n",
    "                seq += nucleotide\n",
    "                if pair_pos > 0:\n",
    "                    pairing_distances = np.append(pairing_distances, larger_pos - smaller_pos)\n",
    "                    pairs[str(smaller_pos)] = larger_pos\n",
    "        for smaller_pos in pairs:\n",
    "            larger_pos = pairs[str(smaller_pos)]\n",
    "            base1 = seq[int(smaller_pos)-1]\n",
    "            base2 = seq[larger_pos-1]\n",
    "            pair = base1 + base2\n",
    "            if pair not in all_pairs:\n",
    "                all_pairs[pair] = 0\n",
    "            all_pairs[pair] += 1\n",
    "    return len(seq), np.mean(pairing_distances)\n",
    "\n",
    "def parse_bpseq_folder(folder_path):\n",
    "\n",
    "    all_pairs = {}\n",
    "    sequence_lengths = np.array([])\n",
    "    average_pairing_distances = np.array([])\n",
    "\n",
    "    for filename in os.listdir(folder_path):\n",
    "        file_path = os.path.join(folder_path, filename)\n",
    "        if os.path.isfile(file_path):\n",
    "            seq_len, pairing_distance = parse_bpseq_file(file_path,all_pairs)\n",
    "            sequence_lengths = np.append(sequence_lengths, seq_len)\n",
    "            average_pairing_distances = np.append(average_pairing_distances, pairing_distance)\n",
    "    return all_pairs, sequence_lengths, average_pairing_distances"
   ]
  },
  {
   "cell_type": "markdown",
   "id": "1493bd67-a3b1-4c98-a315-ae3796bff78d",
   "metadata": {},
   "source": [
    "### bpRNA"
   ]
  },
  {
   "cell_type": "code",
   "execution_count": 23,
   "id": "7b17d8e2-103f-45cd-ae50-bf8a5087fdbd",
   "metadata": {},
   "outputs": [
    {
     "name": "stderr",
     "output_type": "stream",
     "text": [
      "/home/mpintaric/miniconda3/envs/matija_rna/lib/python3.11/site-packages/numpy/core/fromnumeric.py:3504: RuntimeWarning: Mean of empty slice.\n",
      "  return _methods._mean(a, axis=axis, dtype=dtype,\n",
      "/home/mpintaric/miniconda3/envs/matija_rna/lib/python3.11/site-packages/numpy/core/_methods.py:129: RuntimeWarning: invalid value encountered in scalar divide\n",
      "  ret = ret.dtype.type(ret / rcount)\n"
     ]
    }
   ],
   "source": [
    "all_pairs, sequence_lengths, average_pairing_distances = parse_bpseq_folder(\"/home/mpintaric/RNA_FOLDING/all_data/bpRNA_1m_90_dataset/bpRNA_1m_90_BPSEQLFILES\")"
   ]
  },
  {
   "cell_type": "code",
   "execution_count": 24,
   "id": "fde2cde0-3ad1-47a3-807f-f1d6db5d1372",
   "metadata": {},
   "outputs": [
    {
     "data": {
      "text/plain": [
       "{'GC': 396234,\n",
       " 'CG': 364620,\n",
       " 'AC': 13021,\n",
       " 'GG': 11812,\n",
       " 'UA': 218269,\n",
       " 'UG': 86131,\n",
       " 'CU': 9533,\n",
       " 'AU': 200066,\n",
       " 'GU': 89579,\n",
       " 'UU': 18956,\n",
       " 'AG': 15647,\n",
       " 'CA': 13028,\n",
       " 'CC': 7741,\n",
       " 'UN': 590,\n",
       " 'NC': 527,\n",
       " 'CN': 773,\n",
       " 'GN': 860,\n",
       " 'GA': 16875,\n",
       " 'AA': 10481,\n",
       " 'NG': 680,\n",
       " 'UC': 9047,\n",
       " 'NA': 275,\n",
       " 'SU': 1,\n",
       " 'YG': 38,\n",
       " 'GY': 37,\n",
       " 'VU': 3,\n",
       " 'NU': 328,\n",
       " 'gC': 161,\n",
       " 'aU': 74,\n",
       " 'uG': 73,\n",
       " 'NN': 908,\n",
       " 'AH': 3,\n",
       " 'UH': 5,\n",
       " 'GR': 6,\n",
       " 'GW': 4,\n",
       " 'UR': 27,\n",
       " 'AN': 273,\n",
       " 'GM': 14,\n",
       " 'cG': 175,\n",
       " 'uA': 59,\n",
       " 'SG': 17,\n",
       " 'AK': 6,\n",
       " 'AW': 6,\n",
       " 'UM': 9,\n",
       " 'SC': 17,\n",
       " 'HG': 19,\n",
       " 'VC': 2,\n",
       " 'au': 209,\n",
       " 'gc': 357,\n",
       " 'cg': 199,\n",
       " 'CR': 29,\n",
       " 'AM': 1,\n",
       " 'MG': 16,\n",
       " 'gu': 29,\n",
       " 'AY': 6,\n",
       " 'Cg': 29,\n",
       " 'Gc': 78,\n",
       " 'cu': 6,\n",
       " 'ga': 17,\n",
       " 'ag': 18,\n",
       " 'aA': 4,\n",
       " 'gU': 21,\n",
       " 'gG': 3,\n",
       " 'Aa': 8,\n",
       " 'Ca': 7,\n",
       " 'Ug': 11,\n",
       " 'Ga': 8,\n",
       " 'Ac': 11,\n",
       " 'Gu': 12,\n",
       " 'HU': 3,\n",
       " 'RC': 29,\n",
       " 'Ua': 1,\n",
       " 'CS': 11,\n",
       " 'cc': 5,\n",
       " 'cA': 3,\n",
       " 'ac': 4,\n",
       " 'NR': 2,\n",
       " 'Ag': 1,\n",
       " 'SA': 2,\n",
       " 'WG': 9,\n",
       " 'WA': 8,\n",
       " 'UX': 2,\n",
       " 'NY': 2,\n",
       " 'MC': 4,\n",
       " 'HA': 5,\n",
       " 'Am': 1,\n",
       " 'wG': 1,\n",
       " 'gg': 5,\n",
       " 'aa': 6,\n",
       " 'Au': 21,\n",
       " 'GH': 16,\n",
       " 'UW': 12,\n",
       " 'RG': 5,\n",
       " 'YR': 5,\n",
       " 'RU': 17,\n",
       " 'UD': 4,\n",
       " 'DN': 1,\n",
       " 'CK': 5,\n",
       " 'KC': 9,\n",
       " 'RA': 5,\n",
       " 'YA': 14,\n",
       " 'ua': 4,\n",
       " 'MN': 1,\n",
       " 'CM': 1,\n",
       " 'AR': 1,\n",
       " 'YN': 1,\n",
       " 'UY': 4,\n",
       " 'PG': 1,\n",
       " 'KU': 3,\n",
       " 'HK': 3,\n",
       " 'DU': 2,\n",
       " 'GS': 4,\n",
       " 'WC': 2,\n",
       " 'GK': 3,\n",
       " 'CV': 2,\n",
       " 'NM': 2,\n",
       " 'UK': 4,\n",
       " 'Ax': 2,\n",
       " 'XG': 1,\n",
       " 'KB': 2,\n",
       " 'KG': 2,\n",
       " 'aG': 2,\n",
       " 'Cc': 1,\n",
       " 'WU': 4,\n",
       " 'KA': 3,\n",
       " 'YU': 2,\n",
       " 'GV': 2,\n",
       " 'cC': 1,\n",
       " 'CY': 2,\n",
       " 'BC': 1,\n",
       " 'KS': 1,\n",
       " 'MU': 3,\n",
       " 'uc': 1,\n",
       " 'uu': 1,\n",
       " 'gA': 1,\n",
       " 'AS': 1,\n",
       " 'UB': 1,\n",
       " 'RM': 2,\n",
       " 'uU': 1,\n",
       " 'HC': 2,\n",
       " 'RR': 1,\n",
       " 'RN': 1,\n",
       " 'KW': 1,\n",
       " 'YC': 1,\n",
       " 'AV': 1,\n",
       " 'YS': 1,\n",
       " 'CH': 1}"
      ]
     },
     "execution_count": 24,
     "metadata": {},
     "output_type": "execute_result"
    }
   ],
   "source": [
    "all_pairs"
   ]
  },
  {
   "cell_type": "code",
   "execution_count": 25,
   "id": "be14d222-2cae-4b83-950b-ff8973b7efe8",
   "metadata": {},
   "outputs": [
    {
     "name": "stdout",
     "output_type": "stream",
     "text": [
      "Shortest sequence length: 11.0\n",
      "Longest sequence length: 4381.0\n",
      "Average sequence length: 211.85784279168135\n",
      "Average distance between pairs: 44.91262276009914\n"
     ]
    }
   ],
   "source": [
    "print(\"Shortest sequence length:\",np.min(sequence_lengths))\n",
    "print(\"Longest sequence length:\",np.max(sequence_lengths))\n",
    "print(\"Average sequence length:\",np.mean(sequence_lengths))\n",
    "\n",
    "print(\"Average distance between pairs:\",np.nanmean(average_pairing_distances))"
   ]
  },
  {
   "cell_type": "code",
   "execution_count": 26,
   "id": "5697ece3-2392-49c5-b67a-b2d786c962aa",
   "metadata": {},
   "outputs": [],
   "source": [
    "index_map = {\"A\":0,\"G\":1,\"C\":2,\"U\":3}\n",
    "bases_matrix = np.zeros((4,4))\n",
    "valid_bases = \"AGCU\"\n",
    "sum = 0\n",
    "sum_bases = 0\n",
    "for key in all_pairs:\n",
    "    if key[0] in valid_bases and key[1] in valid_bases:\n",
    "        i1 = index_map[key[0]]\n",
    "        i2 = index_map[key[1]]\n",
    "        bases_matrix[i1][i2] += all_pairs[key]\n",
    "        sum_bases += all_pairs[key]\n",
    "    sum += all_pairs[key]"
   ]
  },
  {
   "cell_type": "code",
   "execution_count": 27,
   "id": "757c9704-f3ce-4499-b092-af782cc9d22f",
   "metadata": {},
   "outputs": [
    {
     "name": "stdout",
     "output_type": "stream",
     "text": [
      "Percentage of pairs between cannonical bases in relation to all other pairs 99.50611096143419 %\n"
     ]
    }
   ],
   "source": [
    "print(\"Percentage of pairs between cannonical bases in relation to all other pairs\", sum_bases/sum *100,\"%\")"
   ]
  },
  {
   "cell_type": "code",
   "execution_count": 28,
   "id": "ae9c58e6-37d1-4ad0-96ea-6d66845974e1",
   "metadata": {},
   "outputs": [
    {
     "data": {
      "text/html": [
       "<style type=\"text/css\">\n",
       "#T_3367e_row0_col0, #T_3367e_row1_col1, #T_3367e_row2_col2, #T_3367e_row2_col3, #T_3367e_row3_col2 {\n",
       "  background-color: #440154;\n",
       "  color: #f1f1f1;\n",
       "}\n",
       "#T_3367e_row0_col1 {\n",
       "  background-color: #450457;\n",
       "  color: #f1f1f1;\n",
       "}\n",
       "#T_3367e_row0_col2, #T_3367e_row2_col0 {\n",
       "  background-color: #450559;\n",
       "  color: #f1f1f1;\n",
       "}\n",
       "#T_3367e_row0_col3, #T_3367e_row1_col2, #T_3367e_row2_col1, #T_3367e_row3_col0 {\n",
       "  background-color: #fde725;\n",
       "  color: #000000;\n",
       "}\n",
       "#T_3367e_row1_col0 {\n",
       "  background-color: #460b5e;\n",
       "  color: #f1f1f1;\n",
       "}\n",
       "#T_3367e_row1_col3 {\n",
       "  background-color: #287d8e;\n",
       "  color: #f1f1f1;\n",
       "}\n",
       "#T_3367e_row3_col1 {\n",
       "  background-color: #404688;\n",
       "  color: #f1f1f1;\n",
       "}\n",
       "#T_3367e_row3_col3 {\n",
       "  background-color: #471365;\n",
       "  color: #f1f1f1;\n",
       "}\n",
       "</style>\n",
       "<table id=\"T_3367e\">\n",
       "  <thead>\n",
       "    <tr>\n",
       "      <th class=\"blank level0\" >&nbsp;</th>\n",
       "      <th id=\"T_3367e_level0_col0\" class=\"col_heading level0 col0\" >A</th>\n",
       "      <th id=\"T_3367e_level0_col1\" class=\"col_heading level0 col1\" >G</th>\n",
       "      <th id=\"T_3367e_level0_col2\" class=\"col_heading level0 col2\" >C</th>\n",
       "      <th id=\"T_3367e_level0_col3\" class=\"col_heading level0 col3\" >U</th>\n",
       "    </tr>\n",
       "  </thead>\n",
       "  <tbody>\n",
       "    <tr>\n",
       "      <th id=\"T_3367e_level0_row0\" class=\"row_heading level0 row0\" >A</th>\n",
       "      <td id=\"T_3367e_row0_col0\" class=\"data row0 col0\" >10481.000000</td>\n",
       "      <td id=\"T_3367e_row0_col1\" class=\"data row0 col1\" >15647.000000</td>\n",
       "      <td id=\"T_3367e_row0_col2\" class=\"data row0 col2\" >13021.000000</td>\n",
       "      <td id=\"T_3367e_row0_col3\" class=\"data row0 col3\" >200066.000000</td>\n",
       "    </tr>\n",
       "    <tr>\n",
       "      <th id=\"T_3367e_level0_row1\" class=\"row_heading level0 row1\" >G</th>\n",
       "      <td id=\"T_3367e_row1_col0\" class=\"data row1 col0\" >16875.000000</td>\n",
       "      <td id=\"T_3367e_row1_col1\" class=\"data row1 col1\" >11812.000000</td>\n",
       "      <td id=\"T_3367e_row1_col2\" class=\"data row1 col2\" >396234.000000</td>\n",
       "      <td id=\"T_3367e_row1_col3\" class=\"data row1 col3\" >89579.000000</td>\n",
       "    </tr>\n",
       "    <tr>\n",
       "      <th id=\"T_3367e_level0_row2\" class=\"row_heading level0 row2\" >C</th>\n",
       "      <td id=\"T_3367e_row2_col0\" class=\"data row2 col0\" >13028.000000</td>\n",
       "      <td id=\"T_3367e_row2_col1\" class=\"data row2 col1\" >364620.000000</td>\n",
       "      <td id=\"T_3367e_row2_col2\" class=\"data row2 col2\" >7741.000000</td>\n",
       "      <td id=\"T_3367e_row2_col3\" class=\"data row2 col3\" >9533.000000</td>\n",
       "    </tr>\n",
       "    <tr>\n",
       "      <th id=\"T_3367e_level0_row3\" class=\"row_heading level0 row3\" >U</th>\n",
       "      <td id=\"T_3367e_row3_col0\" class=\"data row3 col0\" >218269.000000</td>\n",
       "      <td id=\"T_3367e_row3_col1\" class=\"data row3 col1\" >86131.000000</td>\n",
       "      <td id=\"T_3367e_row3_col2\" class=\"data row3 col2\" >9047.000000</td>\n",
       "      <td id=\"T_3367e_row3_col3\" class=\"data row3 col3\" >18956.000000</td>\n",
       "    </tr>\n",
       "  </tbody>\n",
       "</table>\n"
      ],
      "text/plain": [
       "<pandas.io.formats.style.Styler at 0x7fa0197f12d0>"
      ]
     },
     "execution_count": 28,
     "metadata": {},
     "output_type": "execute_result"
    }
   ],
   "source": [
    "df = pd.DataFrame(bases_matrix, index=index_map.keys(), columns=index_map.keys())\n",
    "styled_df = df.style.background_gradient(cmap='viridis')\n",
    "styled_df"
   ]
  },
  {
   "cell_type": "code",
   "execution_count": 29,
   "id": "936b3ec8-eafd-4ad3-82f2-218f1d5640ab",
   "metadata": {},
   "outputs": [
    {
     "data": {
      "image/png": "[encoded data removed]",
      "text/plain": [
       "<Figure size 640x480 with 1 Axes>"
      ]
     },
     "metadata": {},
     "output_type": "display_data"
    }
   ],
   "source": [
    "plt.hist(sequence_lengths,bins=50)\n",
    "plt.title(\"Distribution of sequence lengths\")\n",
    "plt.show()"
   ]
  },
  {
   "cell_type": "markdown",
   "id": "5ce8f166-5ee5-42df-abea-44d0859fddfa",
   "metadata": {},
   "source": [
    "### RNAStrAlign"
   ]
  },
  {
   "cell_type": "code",
   "execution_count": 30,
   "id": "2a10075d-4b6b-4aca-8ba2-9e006abd7d3a",
   "metadata": {},
   "outputs": [],
   "source": [
    "\n",
    "def parse_bpseq_folder_modified(folder_path):\n",
    "    all_pairs = {}\n",
    "    sequence_lengths = np.array([])\n",
    "    average_pairing_distances = np.array([])\n",
    "    \n",
    "    for dirpath, dirnames, filenames in os.walk(folder_path):\n",
    "        print(f\"Visiting folder: {dirpath}\")\n",
    "        for filename in filenames:\n",
    "            if filename.endswith('.bpseq'):\n",
    "                file_path = os.path.join(dirpath, filename)\n",
    "                if os.path.isfile(file_path):\n",
    "                    try:\n",
    "\n",
    "                        seq_len, pairing_distance = parse_bpseq_file(file_path, all_pairs)\n",
    "                        sequence_lengths = np.append(sequence_lengths, seq_len)\n",
    "                        average_pairing_distances = np.append(average_pairing_distances, pairing_distance)\n",
    "                    except Exception as e:\n",
    "                        print(f\"Error processing file {file_path}: {e}, mismatch in numbers\")\n",
    "\n",
    "    return all_pairs, sequence_lengths, average_pairing_distances\n",
    "\n"
   ]
  },
  {
   "cell_type": "code",
   "execution_count": 31,
   "id": "74e7b54d-0dc4-4d41-a0e5-73afea7b4677",
   "metadata": {},
   "outputs": [
    {
     "name": "stdout",
     "output_type": "stream",
     "text": [
      "Visiting folder: /home/mpintaric/RNA_FOLDING/all_data/RNAStrAlign/RNAStrAlign_bpseq\n",
      "Visiting folder: /home/mpintaric/RNA_FOLDING/all_data/RNAStrAlign/RNAStrAlign_bpseq/tmRNA_database\n",
      "Visiting folder: /home/mpintaric/RNA_FOLDING/all_data/RNAStrAlign/RNAStrAlign_bpseq/telomerase_database\n",
      "Visiting folder: /home/mpintaric/RNA_FOLDING/all_data/RNAStrAlign/RNAStrAlign_bpseq/16S_rRNA_database\n",
      "Visiting folder: /home/mpintaric/RNA_FOLDING/all_data/RNAStrAlign/RNAStrAlign_bpseq/16S_rRNA_database/Bacilli\n",
      "Visiting folder: /home/mpintaric/RNA_FOLDING/all_data/RNAStrAlign/RNAStrAlign_bpseq/16S_rRNA_database/Actinobacteria\n",
      "Visiting folder: /home/mpintaric/RNA_FOLDING/all_data/RNAStrAlign/RNAStrAlign_bpseq/16S_rRNA_database/Alphaproteobacteria\n",
      "Visiting folder: /home/mpintaric/RNA_FOLDING/all_data/RNAStrAlign/RNAStrAlign_bpseq/16S_rRNA_database/Aquifcae\n",
      "Visiting folder: /home/mpintaric/RNA_FOLDING/all_data/RNAStrAlign/RNAStrAlign_bpseq/16S_rRNA_database/Mollicutes\n",
      "Visiting folder: /home/mpintaric/RNA_FOLDING/all_data/RNAStrAlign/RNAStrAlign_bpseq/group_I_intron_database\n",
      "Visiting folder: /home/mpintaric/RNA_FOLDING/all_data/RNAStrAlign/RNAStrAlign_bpseq/group_I_intron_database/IE2\n",
      "Visiting folder: /home/mpintaric/RNA_FOLDING/all_data/RNAStrAlign/RNAStrAlign_bpseq/group_I_intron_database/IA2\n",
      "Visiting folder: /home/mpintaric/RNA_FOLDING/all_data/RNAStrAlign/RNAStrAlign_bpseq/group_I_intron_database/IA3\n",
      "Visiting folder: /home/mpintaric/RNA_FOLDING/all_data/RNAStrAlign/RNAStrAlign_bpseq/group_I_intron_database/IC1\n",
      "Visiting folder: /home/mpintaric/RNA_FOLDING/all_data/RNAStrAlign/RNAStrAlign_bpseq/group_I_intron_database/ID\n",
      "Visiting folder: /home/mpintaric/RNA_FOLDING/all_data/RNAStrAlign/RNAStrAlign_bpseq/group_I_intron_database/IA1\n",
      "Visiting folder: /home/mpintaric/RNA_FOLDING/all_data/RNAStrAlign/RNAStrAlign_bpseq/group_I_intron_database/IC3\n",
      "Visiting folder: /home/mpintaric/RNA_FOLDING/all_data/RNAStrAlign/RNAStrAlign_bpseq/group_I_intron_database/IB2\n",
      "Visiting folder: /home/mpintaric/RNA_FOLDING/all_data/RNAStrAlign/RNAStrAlign_bpseq/group_I_intron_database/IC2\n",
      "Visiting folder: /home/mpintaric/RNA_FOLDING/all_data/RNAStrAlign/RNAStrAlign_bpseq/group_I_intron_database/IE\n",
      "Visiting folder: /home/mpintaric/RNA_FOLDING/all_data/RNAStrAlign/RNAStrAlign_bpseq/group_I_intron_database/IB1\n",
      "Visiting folder: /home/mpintaric/RNA_FOLDING/all_data/RNAStrAlign/RNAStrAlign_bpseq/group_I_intron_database/IB4\n",
      "Visiting folder: /home/mpintaric/RNA_FOLDING/all_data/RNAStrAlign/RNAStrAlign_bpseq/group_I_intron_database/IB3\n",
      "Visiting folder: /home/mpintaric/RNA_FOLDING/all_data/RNAStrAlign/RNAStrAlign_bpseq/group_I_intron_database/IE3\n",
      "Visiting folder: /home/mpintaric/RNA_FOLDING/all_data/RNAStrAlign/RNAStrAlign_bpseq/group_I_intron_database/IE1\n",
      "Visiting folder: /home/mpintaric/RNA_FOLDING/all_data/RNAStrAlign/RNAStrAlign_bpseq/RNaseP_database\n",
      "Visiting folder: /home/mpintaric/RNA_FOLDING/all_data/RNAStrAlign/RNAStrAlign_bpseq/RNaseP_database/a_bacterial\n",
      "Visiting folder: /home/mpintaric/RNA_FOLDING/all_data/RNAStrAlign/RNAStrAlign_bpseq/RNaseP_database/yeast_nuclear\n",
      "Visiting folder: /home/mpintaric/RNA_FOLDING/all_data/RNAStrAlign/RNAStrAlign_bpseq/RNaseP_database/archaea\n",
      "Visiting folder: /home/mpintaric/RNA_FOLDING/all_data/RNAStrAlign/RNAStrAlign_bpseq/RNaseP_database/vertibrate_nuclear\n",
      "Visiting folder: /home/mpintaric/RNA_FOLDING/all_data/RNAStrAlign/RNAStrAlign_bpseq/RNaseP_database/b_bacterial\n",
      "Visiting folder: /home/mpintaric/RNA_FOLDING/all_data/RNAStrAlign/RNAStrAlign_bpseq/RNaseP_database/nuclear\n",
      "Visiting folder: /home/mpintaric/RNA_FOLDING/all_data/RNAStrAlign/RNAStrAlign_bpseq/RNaseP_database/plastid\n",
      "Visiting folder: /home/mpintaric/RNA_FOLDING/all_data/RNAStrAlign/RNAStrAlign_bpseq/SRP_database\n",
      "Visiting folder: /home/mpintaric/RNA_FOLDING/all_data/RNAStrAlign/RNAStrAlign_bpseq/SRP_database/protozoan\n",
      "Visiting folder: /home/mpintaric/RNA_FOLDING/all_data/RNAStrAlign/RNAStrAlign_bpseq/SRP_database/plant\n",
      "Visiting folder: /home/mpintaric/RNA_FOLDING/all_data/RNAStrAlign/RNAStrAlign_bpseq/SRP_database/animal\n",
      "Visiting folder: /home/mpintaric/RNA_FOLDING/all_data/RNAStrAlign/RNAStrAlign_bpseq/SRP_database/long_bacterial\n",
      "Visiting folder: /home/mpintaric/RNA_FOLDING/all_data/RNAStrAlign/RNAStrAlign_bpseq/SRP_database/archael\n",
      "Visiting folder: /home/mpintaric/RNA_FOLDING/all_data/RNAStrAlign/RNAStrAlign_bpseq/SRP_database/fungal\n",
      "Visiting folder: /home/mpintaric/RNA_FOLDING/all_data/RNAStrAlign/RNAStrAlign_bpseq/SRP_database/small_bacterial\n",
      "Visiting folder: /home/mpintaric/RNA_FOLDING/all_data/RNAStrAlign/RNAStrAlign_bpseq/5S_rRNA_database\n",
      "Visiting folder: /home/mpintaric/RNA_FOLDING/all_data/RNAStrAlign/RNAStrAlign_bpseq/5S_rRNA_database/Eukaryota\n",
      "Error processing file /home/mpintaric/RNA_FOLDING/all_data/RNAStrAlign/RNAStrAlign_bpseq/5S_rRNA_database/Eukaryota/E02831.bpseq: string index out of range, mismatch in numbers\n",
      "Error processing file /home/mpintaric/RNA_FOLDING/all_data/RNAStrAlign/RNAStrAlign_bpseq/5S_rRNA_database/Eukaryota/E00054.bpseq: string index out of range, mismatch in numbers\n",
      "Error processing file /home/mpintaric/RNA_FOLDING/all_data/RNAStrAlign/RNAStrAlign_bpseq/5S_rRNA_database/Eukaryota/E00071.bpseq: string index out of range, mismatch in numbers\n",
      "Error processing file /home/mpintaric/RNA_FOLDING/all_data/RNAStrAlign/RNAStrAlign_bpseq/5S_rRNA_database/Eukaryota/E00049.bpseq: string index out of range, mismatch in numbers\n",
      "Error processing file /home/mpintaric/RNA_FOLDING/all_data/RNAStrAlign/RNAStrAlign_bpseq/5S_rRNA_database/Eukaryota/E01982.bpseq: string index out of range, mismatch in numbers\n",
      "Error processing file /home/mpintaric/RNA_FOLDING/all_data/RNAStrAlign/RNAStrAlign_bpseq/5S_rRNA_database/Eukaryota/E00288.bpseq: string index out of range, mismatch in numbers\n",
      "Visiting folder: /home/mpintaric/RNA_FOLDING/all_data/RNAStrAlign/RNAStrAlign_bpseq/5S_rRNA_database/Archaea\n",
      "Visiting folder: /home/mpintaric/RNA_FOLDING/all_data/RNAStrAlign/RNAStrAlign_bpseq/5S_rRNA_database/Bacteria\n",
      "Error processing file /home/mpintaric/RNA_FOLDING/all_data/RNAStrAlign/RNAStrAlign_bpseq/5S_rRNA_database/Bacteria/B00519.bpseq: string index out of range, mismatch in numbers\n",
      "Error processing file /home/mpintaric/RNA_FOLDING/all_data/RNAStrAlign/RNAStrAlign_bpseq/5S_rRNA_database/Bacteria/B00524.bpseq: string index out of range, mismatch in numbers\n",
      "Error processing file /home/mpintaric/RNA_FOLDING/all_data/RNAStrAlign/RNAStrAlign_bpseq/5S_rRNA_database/Bacteria/B04795.bpseq: string index out of range, mismatch in numbers\n",
      "Error processing file /home/mpintaric/RNA_FOLDING/all_data/RNAStrAlign/RNAStrAlign_bpseq/5S_rRNA_database/Bacteria/B00528.bpseq: string index out of range, mismatch in numbers\n",
      "Error processing file /home/mpintaric/RNA_FOLDING/all_data/RNAStrAlign/RNAStrAlign_bpseq/5S_rRNA_database/Bacteria/B00520.bpseq: string index out of range, mismatch in numbers\n",
      "Visiting folder: /home/mpintaric/RNA_FOLDING/all_data/RNAStrAlign/RNAStrAlign_bpseq/5S_rRNA_database/Mitochondria\n",
      "Visiting folder: /home/mpintaric/RNA_FOLDING/all_data/RNAStrAlign/RNAStrAlign_bpseq/5S_rRNA_database/Plastids\n",
      "Visiting folder: /home/mpintaric/RNA_FOLDING/all_data/RNAStrAlign/RNAStrAlign_bpseq/tRNA_database\n"
     ]
    }
   ],
   "source": [
    "all_pairs, sequence_lengths, average_pairing_distances = parse_bpseq_folder_modified(\"/home/mpintaric/RNA_FOLDING/all_data/RNAStrAlign/RNAStrAlign_bpseq\")"
   ]
  },
  {
   "cell_type": "code",
   "execution_count": 32,
   "id": "084627bc-d5ee-4deb-aabc-31e4cba0cf9d",
   "metadata": {},
   "outputs": [
    {
     "data": {
      "text/plain": [
       "{'GC': 1694741,\n",
       " 'GU': 354783,\n",
       " 'UA': 704564,\n",
       " 'CG': 1491134,\n",
       " 'AU': 590507,\n",
       " 'UG': 377845,\n",
       " 'AA': 13570,\n",
       " 'CC': 6926,\n",
       " 'AG': 68235,\n",
       " 'UU': 40530,\n",
       " 'GA': 53836,\n",
       " 'AC': 28723,\n",
       " 'CU': 7258,\n",
       " 'CN': 1416,\n",
       " 'GN': 1713,\n",
       " 'GG': 22453,\n",
       " 'UN': 1261,\n",
       " 'AN': 502,\n",
       " 'NA': 482,\n",
       " 'NN': 526,\n",
       " 'CA': 16424,\n",
       " 'NC': 1269,\n",
       " 'NG': 2051,\n",
       " 'UC': 7168,\n",
       " 'NU': 740}"
      ]
     },
     "execution_count": 32,
     "metadata": {},
     "output_type": "execute_result"
    }
   ],
   "source": [
    "all_pairs"
   ]
  },
  {
   "cell_type": "code",
   "execution_count": 33,
   "id": "d931367a-6195-490c-b5ac-e703fa2cdd75",
   "metadata": {},
   "outputs": [
    {
     "name": "stdout",
     "output_type": "stream",
     "text": [
      "Shortest sequence length: 30.0\n",
      "Longest sequence length: 1851.0\n",
      "Average sequence length: 503.42791749690343\n",
      "Average distance between pairs: 54.62388066753012\n"
     ]
    }
   ],
   "source": [
    "print(\"Shortest sequence length:\",np.min(sequence_lengths))\n",
    "print(\"Longest sequence length:\",np.max(sequence_lengths))\n",
    "print(\"Average sequence length:\",np.mean(sequence_lengths))\n",
    "\n",
    "print(\"Average distance between pairs:\",np.nanmean(average_pairing_distances))"
   ]
  },
  {
   "cell_type": "code",
   "execution_count": 34,
   "id": "aca070f8-9582-4fcc-b66c-e9571105c479",
   "metadata": {},
   "outputs": [],
   "source": [
    "index_map = {\"A\":0,\"G\":1,\"C\":2,\"U\":3}\n",
    "bases_matrix = np.zeros((4,4))\n",
    "valid_bases = \"AGCU\"\n",
    "sum = 0\n",
    "sum_bases = 0\n",
    "for key in all_pairs:\n",
    "    if key[0] in valid_bases and key[1] in valid_bases:\n",
    "        i1 = index_map[key[0]]\n",
    "        i2 = index_map[key[1]]\n",
    "        bases_matrix[i1][i2] += all_pairs[key]\n",
    "        sum_bases += all_pairs[key]\n",
    "    sum += all_pairs[key]"
   ]
  },
  {
   "cell_type": "code",
   "execution_count": 35,
   "id": "7d387aa9-5cc8-4304-9386-3d65677fbd3f",
   "metadata": {},
   "outputs": [
    {
     "name": "stdout",
     "output_type": "stream",
     "text": [
      "Percentage of pairs between cannonical bases in relation to all other pairs 99.81853484376961 %\n"
     ]
    }
   ],
   "source": [
    "print(\"Percentage of pairs between cannonical bases in relation to all other pairs\", sum_bases/sum *100,\"%\")"
   ]
  },
  {
   "cell_type": "code",
   "execution_count": 36,
   "id": "d38aaf66-8a25-4fd9-804d-577826d33b5a",
   "metadata": {},
   "outputs": [
    {
     "data": {
      "text/html": [
       "<style type=\"text/css\">\n",
       "#T_b8e81_row0_col0, #T_b8e81_row1_col1, #T_b8e81_row2_col2, #T_b8e81_row2_col3, #T_b8e81_row3_col2 {\n",
       "  background-color: #440154;\n",
       "  color: #f1f1f1;\n",
       "}\n",
       "#T_b8e81_row0_col1 {\n",
       "  background-color: #460b5e;\n",
       "  color: #f1f1f1;\n",
       "}\n",
       "#T_b8e81_row0_col2 {\n",
       "  background-color: #450559;\n",
       "  color: #f1f1f1;\n",
       "}\n",
       "#T_b8e81_row0_col3, #T_b8e81_row1_col2, #T_b8e81_row2_col1, #T_b8e81_row3_col0 {\n",
       "  background-color: #fde725;\n",
       "  color: #000000;\n",
       "}\n",
       "#T_b8e81_row1_col0, #T_b8e81_row3_col3 {\n",
       "  background-color: #481668;\n",
       "  color: #f1f1f1;\n",
       "}\n",
       "#T_b8e81_row1_col3 {\n",
       "  background-color: #22a785;\n",
       "  color: #f1f1f1;\n",
       "}\n",
       "#T_b8e81_row2_col0 {\n",
       "  background-color: #440256;\n",
       "  color: #f1f1f1;\n",
       "}\n",
       "#T_b8e81_row3_col1 {\n",
       "  background-color: #3c4f8a;\n",
       "  color: #f1f1f1;\n",
       "}\n",
       "</style>\n",
       "<table id=\"T_b8e81\">\n",
       "  <thead>\n",
       "    <tr>\n",
       "      <th class=\"blank level0\" >&nbsp;</th>\n",
       "      <th id=\"T_b8e81_level0_col0\" class=\"col_heading level0 col0\" >A</th>\n",
       "      <th id=\"T_b8e81_level0_col1\" class=\"col_heading level0 col1\" >G</th>\n",
       "      <th id=\"T_b8e81_level0_col2\" class=\"col_heading level0 col2\" >C</th>\n",
       "      <th id=\"T_b8e81_level0_col3\" class=\"col_heading level0 col3\" >U</th>\n",
       "    </tr>\n",
       "  </thead>\n",
       "  <tbody>\n",
       "    <tr>\n",
       "      <th id=\"T_b8e81_level0_row0\" class=\"row_heading level0 row0\" >A</th>\n",
       "      <td id=\"T_b8e81_row0_col0\" class=\"data row0 col0\" >13570.000000</td>\n",
       "      <td id=\"T_b8e81_row0_col1\" class=\"data row0 col1\" >68235.000000</td>\n",
       "      <td id=\"T_b8e81_row0_col2\" class=\"data row0 col2\" >28723.000000</td>\n",
       "      <td id=\"T_b8e81_row0_col3\" class=\"data row0 col3\" >590507.000000</td>\n",
       "    </tr>\n",
       "    <tr>\n",
       "      <th id=\"T_b8e81_level0_row1\" class=\"row_heading level0 row1\" >G</th>\n",
       "      <td id=\"T_b8e81_row1_col0\" class=\"data row1 col0\" >53836.000000</td>\n",
       "      <td id=\"T_b8e81_row1_col1\" class=\"data row1 col1\" >22453.000000</td>\n",
       "      <td id=\"T_b8e81_row1_col2\" class=\"data row1 col2\" >1694741.000000</td>\n",
       "      <td id=\"T_b8e81_row1_col3\" class=\"data row1 col3\" >354783.000000</td>\n",
       "    </tr>\n",
       "    <tr>\n",
       "      <th id=\"T_b8e81_level0_row2\" class=\"row_heading level0 row2\" >C</th>\n",
       "      <td id=\"T_b8e81_row2_col0\" class=\"data row2 col0\" >16424.000000</td>\n",
       "      <td id=\"T_b8e81_row2_col1\" class=\"data row2 col1\" >1491134.000000</td>\n",
       "      <td id=\"T_b8e81_row2_col2\" class=\"data row2 col2\" >6926.000000</td>\n",
       "      <td id=\"T_b8e81_row2_col3\" class=\"data row2 col3\" >7258.000000</td>\n",
       "    </tr>\n",
       "    <tr>\n",
       "      <th id=\"T_b8e81_level0_row3\" class=\"row_heading level0 row3\" >U</th>\n",
       "      <td id=\"T_b8e81_row3_col0\" class=\"data row3 col0\" >704564.000000</td>\n",
       "      <td id=\"T_b8e81_row3_col1\" class=\"data row3 col1\" >377845.000000</td>\n",
       "      <td id=\"T_b8e81_row3_col2\" class=\"data row3 col2\" >7168.000000</td>\n",
       "      <td id=\"T_b8e81_row3_col3\" class=\"data row3 col3\" >40530.000000</td>\n",
       "    </tr>\n",
       "  </tbody>\n",
       "</table>\n"
      ],
      "text/plain": [
       "<pandas.io.formats.style.Styler at 0x7fa019563010>"
      ]
     },
     "execution_count": 36,
     "metadata": {},
     "output_type": "execute_result"
    }
   ],
   "source": [
    "df = pd.DataFrame(bases_matrix, index=index_map.keys(), columns=index_map.keys())\n",
    "styled_df = df.style.background_gradient(cmap='viridis')\n",
    "styled_df"
   ]
  },
  {
   "cell_type": "code",
   "execution_count": 37,
   "id": "610349d2-232e-43e9-87e7-b4ffc322ac4d",
   "metadata": {},
   "outputs": [
    {
     "data": {
      "image/png": "[encoded data removed]",
      "text/plain": [
       "<Figure size 640x480 with 1 Axes>"
      ]
     },
     "metadata": {},
     "output_type": "display_data"
    }
   ],
   "source": [
    "plt.hist(sequence_lengths,bins=50)\n",
    "plt.title(\"Distribution of sequence lengths\")\n",
    "plt.show()"
   ]
  },
  {
   "cell_type": "markdown",
   "id": "b80ab9db-12dd-4a96-b5a1-89f09beb5091",
   "metadata": {},
   "source": [
    "### Archiveii"
   ]
  },
  {
   "cell_type": "code",
   "execution_count": 38,
   "id": "cabfd2cf-ad71-47fe-bdf2-c5eff68f62af",
   "metadata": {},
   "outputs": [],
   "source": [
    "import pandas as pd\n",
    "\n",
    "df = pd.read_parquet(\"hf://datasets/multimolecule/archiveii/test.parquet\")"
   ]
  },
  {
   "cell_type": "code",
   "execution_count": 39,
   "id": "ff327191-e9c9-4ff9-8b1e-b3ae056c8d34",
   "metadata": {},
   "outputs": [],
   "source": [
    "def parse_seq(sequence, secondary_structure, all_pairs):\n",
    "    pairing_distances = np.array([])\n",
    "    index = 0\n",
    "    left_brackets = []\n",
    "    for elem in secondary_structure:\n",
    "        if elem == \"(\":\n",
    "            left_brackets.append(index)\n",
    "        if elem == \")\":\n",
    "            index_smaller = left_brackets.pop()\n",
    "            pairing_distances = np.append(pairing_distances, index - index_smaller)\n",
    "            base1 = sequence[index_smaller]\n",
    "            base2 = sequence[index]\n",
    "            pair = base1 + base2\n",
    "            if pair not in all_pairs:\n",
    "                all_pairs[pair] = 0\n",
    "            all_pairs[pair] += 1\n",
    "        index += 1\n",
    "    return len(sequence), np.mean(pairing_distances)\n",
    "\n"
   ]
  },
  {
   "cell_type": "code",
   "execution_count": 40,
   "id": "cadd77fb-25c7-4329-aa4e-d4484dc15db6",
   "metadata": {},
   "outputs": [],
   "source": [
    "all_pairs = {}\n",
    "sequence_lengths = np.array([])\n",
    "average_pairing_distances = np.array([])\n",
    "for index, row in df.iterrows():\n",
    "\n",
    "    sequence = row[\"sequence\"]\n",
    "    structure = row[\"secondary_structure\"]\n",
    "    seq_len, pairing_distance = parse_seq(sequence, structure, all_pairs)\n",
    "\n",
    "    sequence_lengths = np.append(sequence_lengths, seq_len)\n",
    "    average_pairing_distances = np.append(average_pairing_distances, pairing_distance)"
   ]
  },
  {
   "cell_type": "code",
   "execution_count": 41,
   "id": "9c3e3fd2-7066-4f72-84c1-31c0d3890c6f",
   "metadata": {},
   "outputs": [
    {
     "data": {
      "text/plain": [
       "{'CG': 58454,\n",
       " 'CC': 3343,\n",
       " 'UC': 2265,\n",
       " 'UA': 29028,\n",
       " 'GG': 4355,\n",
       " 'AU': 27406,\n",
       " 'UG': 17111,\n",
       " 'GC': 65185,\n",
       " 'GU': 15500,\n",
       " 'GA': 2242,\n",
       " 'AC': 1466,\n",
       " 'CA': 2008,\n",
       " 'UU': 1822,\n",
       " 'CU': 2029,\n",
       " 'AG': 1809,\n",
       " 'AA': 1053}"
      ]
     },
     "execution_count": 41,
     "metadata": {},
     "output_type": "execute_result"
    }
   ],
   "source": [
    "all_pairs"
   ]
  },
  {
   "cell_type": "code",
   "execution_count": 42,
   "id": "10494d61-684c-4749-9615-a47d2cc6b676",
   "metadata": {},
   "outputs": [
    {
     "name": "stdout",
     "output_type": "stream",
     "text": [
      "Shortest sequence length: 28.0\n",
      "Longest sequence length: 2968.0\n",
      "Average sequence length: 213.3154716981132\n",
      "Average distance between pairs: 62.801413544876254\n"
     ]
    }
   ],
   "source": [
    "print(\"Shortest sequence length:\",np.min(sequence_lengths))\n",
    "print(\"Longest sequence length:\",np.max(sequence_lengths))\n",
    "print(\"Average sequence length:\",np.mean(sequence_lengths))\n",
    "\n",
    "print(\"Average distance between pairs:\",np.nanmean(average_pairing_distances))"
   ]
  },
  {
   "cell_type": "code",
   "execution_count": 43,
   "id": "56f5a948-ce3b-4198-a01a-3c1cc351cf24",
   "metadata": {},
   "outputs": [],
   "source": [
    "index_map = {\"A\":0,\"G\":1,\"C\":2,\"U\":3}\n",
    "bases_matrix = np.zeros((4,4))\n",
    "valid_bases = \"AGCU\"\n",
    "sum = 0\n",
    "sum_bases = 0\n",
    "for key in all_pairs:\n",
    "    if key[0] in valid_bases and key[1] in valid_bases:\n",
    "        i1 = index_map[key[0]]\n",
    "        i2 = index_map[key[1]]\n",
    "        bases_matrix[i1][i2] += all_pairs[key]\n",
    "        sum_bases += all_pairs[key]\n",
    "    sum += all_pairs[key]"
   ]
  },
  {
   "cell_type": "code",
   "execution_count": 44,
   "id": "5b2925f9-06d8-471f-a577-2c086fc59e50",
   "metadata": {},
   "outputs": [
    {
     "name": "stdout",
     "output_type": "stream",
     "text": [
      "Percentage of pairs between cannonical bases in relation to all other pairs 100.0 %\n"
     ]
    }
   ],
   "source": [
    "print(\"Percentage of pairs between cannonical bases in relation to all other pairs\", sum_bases/sum *100,\"%\")"
   ]
  },
  {
   "cell_type": "code",
   "execution_count": 45,
   "id": "7ef54c66-62b8-4319-bcbd-e2fa1c410d8f",
   "metadata": {},
   "outputs": [
    {
     "data": {
      "text/html": [
       "<style type=\"text/css\">\n",
       "#T_a3947_row0_col0, #T_a3947_row0_col1, #T_a3947_row0_col2, #T_a3947_row3_col3 {\n",
       "  background-color: #440154;\n",
       "  color: #f1f1f1;\n",
       "}\n",
       "#T_a3947_row0_col3, #T_a3947_row1_col2, #T_a3947_row2_col1, #T_a3947_row3_col0 {\n",
       "  background-color: #fde725;\n",
       "  color: #000000;\n",
       "}\n",
       "#T_a3947_row1_col0 {\n",
       "  background-color: #471063;\n",
       "  color: #f1f1f1;\n",
       "}\n",
       "#T_a3947_row1_col1 {\n",
       "  background-color: #471164;\n",
       "  color: #f1f1f1;\n",
       "}\n",
       "#T_a3947_row1_col3 {\n",
       "  background-color: #1f988b;\n",
       "  color: #f1f1f1;\n",
       "}\n",
       "#T_a3947_row2_col0 {\n",
       "  background-color: #470d60;\n",
       "  color: #f1f1f1;\n",
       "}\n",
       "#T_a3947_row2_col2 {\n",
       "  background-color: #460b5e;\n",
       "  color: #f1f1f1;\n",
       "}\n",
       "#T_a3947_row2_col3 {\n",
       "  background-color: #450457;\n",
       "  color: #f1f1f1;\n",
       "}\n",
       "#T_a3947_row3_col1 {\n",
       "  background-color: #38588c;\n",
       "  color: #f1f1f1;\n",
       "}\n",
       "#T_a3947_row3_col2 {\n",
       "  background-color: #450559;\n",
       "  color: #f1f1f1;\n",
       "}\n",
       "</style>\n",
       "<table id=\"T_a3947\">\n",
       "  <thead>\n",
       "    <tr>\n",
       "      <th class=\"blank level0\" >&nbsp;</th>\n",
       "      <th id=\"T_a3947_level0_col0\" class=\"col_heading level0 col0\" >A</th>\n",
       "      <th id=\"T_a3947_level0_col1\" class=\"col_heading level0 col1\" >G</th>\n",
       "      <th id=\"T_a3947_level0_col2\" class=\"col_heading level0 col2\" >C</th>\n",
       "      <th id=\"T_a3947_level0_col3\" class=\"col_heading level0 col3\" >U</th>\n",
       "    </tr>\n",
       "  </thead>\n",
       "  <tbody>\n",
       "    <tr>\n",
       "      <th id=\"T_a3947_level0_row0\" class=\"row_heading level0 row0\" >A</th>\n",
       "      <td id=\"T_a3947_row0_col0\" class=\"data row0 col0\" >1053.000000</td>\n",
       "      <td id=\"T_a3947_row0_col1\" class=\"data row0 col1\" >1809.000000</td>\n",
       "      <td id=\"T_a3947_row0_col2\" class=\"data row0 col2\" >1466.000000</td>\n",
       "      <td id=\"T_a3947_row0_col3\" class=\"data row0 col3\" >27406.000000</td>\n",
       "    </tr>\n",
       "    <tr>\n",
       "      <th id=\"T_a3947_level0_row1\" class=\"row_heading level0 row1\" >G</th>\n",
       "      <td id=\"T_a3947_row1_col0\" class=\"data row1 col0\" >2242.000000</td>\n",
       "      <td id=\"T_a3947_row1_col1\" class=\"data row1 col1\" >4355.000000</td>\n",
       "      <td id=\"T_a3947_row1_col2\" class=\"data row1 col2\" >65185.000000</td>\n",
       "      <td id=\"T_a3947_row1_col3\" class=\"data row1 col3\" >15500.000000</td>\n",
       "    </tr>\n",
       "    <tr>\n",
       "      <th id=\"T_a3947_level0_row2\" class=\"row_heading level0 row2\" >C</th>\n",
       "      <td id=\"T_a3947_row2_col0\" class=\"data row2 col0\" >2008.000000</td>\n",
       "      <td id=\"T_a3947_row2_col1\" class=\"data row2 col1\" >58454.000000</td>\n",
       "      <td id=\"T_a3947_row2_col2\" class=\"data row2 col2\" >3343.000000</td>\n",
       "      <td id=\"T_a3947_row2_col3\" class=\"data row2 col3\" >2029.000000</td>\n",
       "    </tr>\n",
       "    <tr>\n",
       "      <th id=\"T_a3947_level0_row3\" class=\"row_heading level0 row3\" >U</th>\n",
       "      <td id=\"T_a3947_row3_col0\" class=\"data row3 col0\" >29028.000000</td>\n",
       "      <td id=\"T_a3947_row3_col1\" class=\"data row3 col1\" >17111.000000</td>\n",
       "      <td id=\"T_a3947_row3_col2\" class=\"data row3 col2\" >2265.000000</td>\n",
       "      <td id=\"T_a3947_row3_col3\" class=\"data row3 col3\" >1822.000000</td>\n",
       "    </tr>\n",
       "  </tbody>\n",
       "</table>\n"
      ],
      "text/plain": [
       "<pandas.io.formats.style.Styler at 0x7fa02b90d190>"
      ]
     },
     "execution_count": 45,
     "metadata": {},
     "output_type": "execute_result"
    }
   ],
   "source": [
    "df = pd.DataFrame(bases_matrix, index=index_map.keys(), columns=index_map.keys())\n",
    "styled_df = df.style.background_gradient(cmap='viridis')\n",
    "styled_df"
   ]
  },
  {
   "cell_type": "code",
   "execution_count": 46,
   "id": "ba832e05-d9f6-4a44-8cf6-e8397947758b",
   "metadata": {},
   "outputs": [
    {
     "data": {
      "image/png": "[encoded data removed]",
      "text/plain": [
       "<Figure size 640x480 with 1 Axes>"
      ]
     },
     "metadata": {},
     "output_type": "display_data"
    }
   ],
   "source": [
    "plt.hist(sequence_lengths,bins=50)\n",
    "plt.title(\"Distribution of sequence lengths\")\n",
    "plt.show()"
   ]
  },
  {
   "cell_type": "code",
   "execution_count": null,
   "id": "89063004-3c51-4472-9081-ffa102b15dd4",
   "metadata": {},
   "outputs": [],
   "source": []
  }
 ],
 "metadata": {
  "kernelspec": {
   "display_name": "Python 3 (ipykernel)",
   "language": "python",
   "name": "python3"
  },
  "language_info": {
   "codemirror_mode": {
    "name": "ipython",
    "version": 3
   },
   "file_extension": ".py",
   "mimetype": "text/x-python",
   "name": "python",
   "nbconvert_exporter": "python",
   "pygments_lexer": "ipython3",
   "version": "3.11.8"
  }
 },
 "nbformat": 4,
 "nbformat_minor": 5
}
