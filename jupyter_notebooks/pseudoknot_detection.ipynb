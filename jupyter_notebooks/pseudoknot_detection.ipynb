{
 "cells": [
  {
   "cell_type": "code",
   "execution_count": 1,
   "id": "cb134fc5-3389-4b1c-a660-d459875e3ff0",
   "metadata": {},
   "outputs": [],
   "source": [
    "import numpy as np\n",
    "import pandas as pd\n",
    "import matplotlib.pyplot as plt\n",
    "import matplotlib\n",
    "from Bio import SeqIO\n",
    "import os"
   ]
  },
  {
   "cell_type": "code",
   "execution_count": 34,
   "id": "759333f0-2ef0-4647-a91d-61fe5341497c",
   "metadata": {},
   "outputs": [],
   "source": [
    "def parse_bpseq_file(file_path):\n",
    "    with open(file_path, 'r') as file:\n",
    "        dot_string = []\n",
    "        left_elems = []\n",
    "        for line in file:\n",
    "            if \"#\" in line:\n",
    "                continue\n",
    "            parts = line.strip().split()\n",
    "            if len(parts) == 3:\n",
    "                pos, nucleotide, pair_pos = parts\n",
    "                pos1,pos2 = int(pos), int(pair_pos)\n",
    "                pos1, pos2 = pos1-1, pos2-1\n",
    "                if pos2 == -1:\n",
    "                    dot_string.append(\".\")\n",
    "                elif pos1 > pos2:\n",
    "                    if len(left_elems) > 0:\n",
    "                    \n",
    "                        if pos2 != left_elems[-1]:\n",
    "                            dot_string[pos2] = \"{\"\n",
    "                            left_elems.remove(pos2)\n",
    "                            dot_string.append(\"}\")\n",
    "                        else:\n",
    "                            left_elems.pop()\n",
    "                            dot_string.append(\")\")\n",
    "                else:\n",
    "                    left_elems.append(pos1)\n",
    "                    dot_string += \"(\"\n",
    "        dotstr = set(\"\".join(dot_string))\n",
    "        if \"{\" in dotstr and \"(\" in dotstr:\n",
    "            return True\n",
    "    return False\n",
    "\n",
    "\n",
    "\n",
    "def parse_bpseq_folder(folder_path):\n",
    "\n",
    "    counter = 0\n",
    "    pseudos = 0\n",
    "    for filename in os.listdir(folder_path):\n",
    "        file_path = os.path.join(folder_path, filename)\n",
    "        if os.path.isfile(file_path):\n",
    "            pseudoknot_detected = parse_bpseq_file(file_path)\n",
    "            if pseudoknot_detected:\n",
    "                pseudos += 1 \n",
    "            counter += 1\n",
    "    print(\"Percentage of files with pseuduonots: \", 100*pseudos/counter,\"%\")"
   ]
  },
  {
   "cell_type": "code",
   "execution_count": 35,
   "id": "90175a10-b4dc-4077-90fc-e2bc29a00298",
   "metadata": {},
   "outputs": [
    {
     "name": "stdout",
     "output_type": "stream",
     "text": [
      "Percentage of files with pseuduonots:  11.702502643637645 %\n"
     ]
    }
   ],
   "source": [
    "parse_bpseq_folder(\"/home/mpintaric/RNA_FOLDING/all_data/bpRNA_1m_90_dataset/bpRNA_1m_90_BPSEQLFILES\")"
   ]
  }
 ],
 "metadata": {
  "kernelspec": {
   "display_name": "Python 3 (ipykernel)",
   "language": "python",
   "name": "python3"
  },
  "language_info": {
   "codemirror_mode": {
    "name": "ipython",
    "version": 3
   },
   "file_extension": ".py",
   "mimetype": "text/x-python",
   "name": "python",
   "nbconvert_exporter": "python",
   "pygments_lexer": "ipython3",
   "version": "3.11.8"
  }
 },
 "nbformat": 4,
 "nbformat_minor": 5
}
