{
 "cells": [
  {
   "cell_type": "code",
   "execution_count": 1,
   "id": "cb134fc5-3389-4b1c-a660-d459875e3ff0",
   "metadata": {},
   "outputs": [],
   "source": [
    "import numpy as np\n",
    "import pandas as pd\n",
    "import matplotlib.pyplot as plt\n",
    "import matplotlib\n",
    "from Bio import SeqIO\n",
    "import os"
   ]
  },
  {
   "cell_type": "code",
   "execution_count": 23,
   "id": "759333f0-2ef0-4647-a91d-61fe5341497c",
   "metadata": {},
   "outputs": [],
   "source": [
    "def parse_dot_file(file_path):\n",
    "    with open(file_path, 'r') as file:\n",
    "        for line in file:\n",
    "            if \"#\" in line:\n",
    "                continue\n",
    "            if \"A\" in line or \"C\" in line or \"G\" in line or \"U\" in line or \"U\" in line or \"N\" in line:\n",
    "                continue\n",
    "            elements = set(line.strip())\n",
    "            if len(elements) > 3:\n",
    "                return True\n",
    "    return False\n",
    "            \n",
    "\n",
    "\n",
    "\n",
    "def parse_dot_folder(folder_path):\n",
    "\n",
    "    families = {}\n",
    "    for filename in os.listdir(folder_path):\n",
    "        file_path = os.path.join(folder_path, filename)\n",
    "        if os.path.isfile(file_path):\n",
    "            family = filename.split(\"_\")[1]\n",
    "            if family not in families:\n",
    "                families[family] = (0,0)\n",
    "            pseudos, counter = families[family]\n",
    "            pseudoknot_present = parse_dot_file(file_path)\n",
    "            if pseudoknot_present:\n",
    "                pseudos += 1\n",
    "            counter += 1\n",
    "            families[family] = (pseudos, counter)\n",
    "    return families\n"
   ]
  },
  {
   "cell_type": "code",
   "execution_count": 26,
   "id": "90175a10-b4dc-4077-90fc-e2bc29a00298",
   "metadata": {},
   "outputs": [],
   "source": [
    "families = parse_dot_folder(\"/home/mpintaric/RNA_FOLDING/all_data/bpRNA_1m_90_dataset/bpRNA_1m_90_DBNFILES\")"
   ]
  },
  {
   "cell_type": "code",
   "execution_count": 30,
   "id": "46db3e9d-e266-4052-b5e9-d19f78f5b330",
   "metadata": {},
   "outputs": [
    {
     "name": "stdout",
     "output_type": "stream",
     "text": [
      "Family RFAM  has 7.290972869765996 % of files with pseudoknots\n",
      "Family CRW  has 25.068681318681318 % of files with pseudoknots\n",
      "Family PDB  has 17.87878787878788 % of files with pseudoknots\n",
      "Family tmRNA  has 97.93510324483776 % of files with pseudoknots\n",
      "Family RNP  has 74.70355731225297 % of files with pseudoknots\n",
      "Family SRP  has 0.0 % of files with pseudoknots\n",
      "Family SPR  has 0.0 % of files with pseudoknots\n",
      "In total: 11.691928093056045 % of files with pseudoknots\n"
     ]
    }
   ],
   "source": [
    "total_elem = 0\n",
    "total_pseud = 0\n",
    "for family in families:\n",
    "    pseudos, total = families[family]\n",
    "    total_elem += total\n",
    "    total_pseud += pseudos\n",
    "    print(\"Family\", family, \" has\", 100*pseudos/total, \"% of files with pseudoknots\")\n",
    "\n",
    "print(\"In total:\", 100*total_pseud/total_elem, \"% of files with pseudoknots\")"
   ]
  },
  {
   "cell_type": "code",
   "execution_count": null,
   "id": "73f8f2ba-8d3f-4fe6-9e88-cdb478c65554",
   "metadata": {},
   "outputs": [],
   "source": []
  }
 ],
 "metadata": {
  "kernelspec": {
   "display_name": "Python 3 (ipykernel)",
   "language": "python",
   "name": "python3"
  },
  "language_info": {
   "codemirror_mode": {
    "name": "ipython",
    "version": 3
   },
   "file_extension": ".py",
   "mimetype": "text/x-python",
   "name": "python",
   "nbconvert_exporter": "python",
   "pygments_lexer": "ipython3",
   "version": "3.11.8"
  }
 },
 "nbformat": 4,
 "nbformat_minor": 5
}
