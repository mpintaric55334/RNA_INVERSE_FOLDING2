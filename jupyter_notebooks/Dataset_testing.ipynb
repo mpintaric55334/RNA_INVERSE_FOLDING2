{
 "cells": [
  {
   "cell_type": "code",
   "execution_count": 1,
   "id": "3af93fb3-afa3-4b85-932c-bc10203d8111",
   "metadata": {},
   "outputs": [],
   "source": [
    "import sys\n",
    "import os\n",
    "sys.path.append(os.path.abspath('../datasets'))\n",
    "from dataset import BPSeqDataset"
   ]
  },
  {
   "cell_type": "code",
   "execution_count": 4,
   "id": "173423ec-0d84-41a8-ba78-50d20fd72d41",
   "metadata": {},
   "outputs": [],
   "source": [
    "data = BPSeqDataset(\"/home/mpintaric/RNA_FOLDING/all_data/bpRNA_1m_90_dataset/bpRNA_1m_90_BPSEQLFILES\",\"\",100)"
   ]
  },
  {
   "cell_type": "code",
   "execution_count": 5,
   "id": "1510af44-8fbb-4f7a-a58f-b07754b34cfd",
   "metadata": {},
   "outputs": [
    {
     "name": "stdout",
     "output_type": "stream",
     "text": [
      "9322\n"
     ]
    }
   ],
   "source": [
    "print(len(data))"
   ]
  },
  {
   "cell_type": "code",
   "execution_count": null,
   "id": "ee584e88-0153-4102-8fb7-8266837df0f0",
   "metadata": {},
   "outputs": [],
   "source": []
  }
 ],
 "metadata": {
  "kernelspec": {
   "display_name": "Python 3 (ipykernel)",
   "language": "python",
   "name": "python3"
  },
  "language_info": {
   "codemirror_mode": {
    "name": "ipython",
    "version": 3
   },
   "file_extension": ".py",
   "mimetype": "text/x-python",
   "name": "python",
   "nbconvert_exporter": "python",
   "pygments_lexer": "ipython3",
   "version": "3.11.8"
  }
 },
 "nbformat": 4,
 "nbformat_minor": 5
}
